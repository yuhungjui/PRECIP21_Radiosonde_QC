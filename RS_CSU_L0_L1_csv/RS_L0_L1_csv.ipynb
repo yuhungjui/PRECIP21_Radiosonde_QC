{
 "cells": [
  {
   "cell_type": "markdown",
   "id": "d7c28eb6",
   "metadata": {},
   "source": [
    "# Transform Vaisala RS41 radiosonde at CSU from L0 data (edt) to L1 csv format file (batch mode).\n",
    "\n",
    "**The CSU Vaisala MW41 system for RS41 radiosonde exports the edt-format file in its own specific format.**\n",
    "\n",
    "Hungjui Yu\\\n",
    "20210913"
   ]
  },
  {
   "cell_type": "code",
   "execution_count": 223,
   "id": "f4c317a4",
   "metadata": {},
   "outputs": [],
   "source": [
    "import glob\n",
    "import time\n",
    "import pandas as pd\n",
    "import datetime as dt\n",
    "import pytz\n",
    "from metpy.calc import dewpoint_from_relative_humidity\n",
    "from metpy.units import units"
   ]
  },
  {
   "cell_type": "markdown",
   "id": "4c523351-4b27-4580-b121-6d593ac625ed",
   "metadata": {},
   "source": [
    "**Set RS L0 (edt) files path:**"
   ]
  },
  {
   "cell_type": "code",
   "execution_count": 224,
   "id": "f736ddbd",
   "metadata": {},
   "outputs": [],
   "source": [
    "RS_L0_file_path = '/Users/yuhungjui/Research/CSU_2021/PRECIP_2021/VaisalaRS41/Data/L0'\n"
   ]
  },
  {
   "cell_type": "markdown",
   "id": "ebc4c7f2-d8c5-484c-9164-1ec22d77eec2",
   "metadata": {},
   "source": [
    "**Set output path:**"
   ]
  },
  {
   "cell_type": "code",
   "execution_count": 225,
   "id": "836aab8b",
   "metadata": {},
   "outputs": [],
   "source": [
    "output_path = '/Users/yuhungjui/Research/CSU_2021/PRECIP_2021/VaisalaRS41/Data/L1_csv'\n"
   ]
  },
  {
   "cell_type": "markdown",
   "id": "f547d1c4-f890-4be2-9d53-7abd745a2a73",
   "metadata": {},
   "source": [
    "**Find all edt files in the directory (test for single file):**"
   ]
  },
  {
   "cell_type": "code",
   "execution_count": 226,
   "id": "5ddc3fc1",
   "metadata": {},
   "outputs": [],
   "source": [
    "# for file_path_name in glob.glob(RS_L0_file_path + '/*/edt_*'):\n",
    "#     print(file_path_name)\n",
    "\n",
    "# os.listdir(RS_L0_file_path)\n",
    "# os.walk(RS_L0_file_path)\n",
    "\n",
    "# file_path_name_list = '/Users/yuhungjui/Research/CSU_2021/PRECIP_2021/VaisalaRS41/Data/L0/20210626/edt_20210626_1741.txt'\n"
   ]
  },
  {
   "cell_type": "markdown",
   "id": "e8fbe5ed-8754-4f50-b8a8-beb489ca4598",
   "metadata": {},
   "source": [
    "**Load the edt file:**"
   ]
  },
  {
   "cell_type": "code",
   "execution_count": 227,
   "id": "497f4167-918d-4e61-a601-924f4dbb7c1f",
   "metadata": {},
   "outputs": [],
   "source": [
    "def load_L0_edt(file_path_name):\n",
    "\n",
    "    ## For sounding data:\n",
    "    RS_df = pd.read_csv(file_path_name, sep='\\s+', header=28, \n",
    "                        names=['Time','MSL','P','TC','TD','RH','WS','WD','AscRate','Lat','Lon','GPS_MSL'])\n",
    "    # print(RS_df)\n",
    "\n",
    "    ## For souding launch time:\n",
    "    tz_utc = pytz.timezone('UTC')\n",
    "    tz_fc = pytz.timezone('US/Mountain')\n",
    "    RS_time = pd.read_csv(file_path_name, header=None, nrows=6)\n",
    "    # print(RS_time.iloc[5][0][:])\n",
    "    RS_launch_time = dt.datetime.strptime(RS_time.iloc[5][0][:],\n",
    "                                          'Balloon release date and time                \t%Y-%m-%dT%H:%M:%S')\n",
    "    # print(launch_time)\n",
    "    \n",
    "    ## For sounding info:\n",
    "    # RS_type = pd.read_csv(file_path_name, header=None, nrows=3)\n",
    "    RS_sn = pd.read_csv(file_path_name, header=None, nrows=4).iloc[3][0][-8:]\n",
    "    \n",
    "    return RS_launch_time, RS_df, RS_sn\n",
    "\n",
    "    # open_csv = open(file_path_name, 'r')\n",
    "    # reader = csv.reader(open_csv)\n",
    "    # for row in reader:\n",
    "    #     print(row)\n",
    "\n",
    "# RS_data = load_L0_edt(file_path_name)\n",
    "# print(RS_data)"
   ]
  },
  {
   "cell_type": "markdown",
   "id": "0ef0d7bb-7216-44dd-bad0-e4dc2ba32c75",
   "metadata": {},
   "source": [
    "**Convert from L0 data to L1 variables if needed:**"
   ]
  },
  {
   "cell_type": "code",
   "execution_count": 228,
   "id": "94296843",
   "metadata": {},
   "outputs": [],
   "source": [
    "# def conversion_L0_L1(loaded_RS_file, RS_launch_time):\n",
    "\n",
    "#     # launch_time = loaded_ST_file[0]\n",
    "#     # L0_raw_data = loaded_ST_file[1]\n",
    "    \n",
    "#     tz_utc = pytz.timezone('UTC')\n",
    "\n",
    "#     # Convert the data time to datetime object:\n",
    "#     L0_raw_data['Time'] = pd.to_datetime(L0_raw_data['Time'], utc=tz_utc)\n",
    "\n",
    "#     # Calculate dew-point temperature in raw data:\n",
    "#     L0_raw_data['dT(degC)'] = dewpoint_from_relative_humidity((L0_raw_data['Temperature(degree C)'].to_numpy() * units.degC).to(units.K), L0_raw_data['Humidity(%)'].to_numpy() / 100.)\n",
    "\n",
    "#     # Convert wind speed in raw data:\n",
    "#     # L0_raw_data['WS(kts)'] = (L0_raw_data['Speed(km/hr)'].to_numpy() * units.kilometer_per_hour).to(units.knot)\n",
    "#     L0_raw_data['WS(m/s)'] = (L0_raw_data['Speed(km/hr)'].to_numpy() * units.kilometer_per_hour).to(units.meter_per_second)\n",
    "\n",
    "#     # Convert wind direction in raw data:\n",
    "#     L0_raw_data.loc[L0_raw_data['Direction(degree)'] <= 180, 'WDIR'] = L0_raw_data['Direction(degree)'] + 180\n",
    "#     L0_raw_data.loc[L0_raw_data['Direction(degree)'] > 180, 'WDIR'] = L0_raw_data['Direction(degree)'] - 180\n",
    "#     L0_raw_data.loc[L0_raw_data['Speed(km/hr)'] == 0, 'WDIR'] = 0\n",
    "    \n",
    "#     # Find the index of launch time and convert L0 to L1 data:\n",
    "#     L1_data = L0_raw_data[L0_raw_data['Time'] >= launch_time_utc].copy()\n",
    "    \n",
    "#     # Set Time(sec) in L1 data:\n",
    "#     L1_data['Time(sec)'] = (L1_data['Time']-launch_time_utc).dt.total_seconds()\n",
    "#     # L1_data['Time(sec)'] = (L1_data['Time']-launch_time_utc).astype('timedelta64[s]')\n",
    "    \n",
    "#     return L1_data\n"
   ]
  },
  {
   "cell_type": "markdown",
   "id": "df4387c6-4426-421a-aa28-67d3261779f3",
   "metadata": {},
   "source": [
    "**Get the sounding nominal time:**"
   ]
  },
  {
   "cell_type": "code",
   "execution_count": 229,
   "id": "8948a106-f9f1-45dd-b4f7-3b896eeabc90",
   "metadata": {},
   "outputs": [],
   "source": [
    "def get_nominal_time(loaded_RS_file):\n",
    "    \n",
    "    launch_hr = loaded_RS_file[0].hour\n",
    "    \n",
    "    if ( launch_hr == 14 or launch_hr == 15 ):\n",
    "        nominal_hr = 15\n",
    "    elif ( launch_hr == 17 or launch_hr == 18 ):\n",
    "        nominal_hr = 18\n",
    "    elif ( launch_hr == 20 or launch_hr == 21 ):\n",
    "        nominal_hr = 21\n",
    "    \n",
    "    return str(nominal_hr)\n",
    "\n",
    "# print(get_nominal_time(RS_data))"
   ]
  },
  {
   "cell_type": "markdown",
   "id": "ef5fe5b4-7c7f-45d6-b873-961a1a723af8",
   "metadata": {},
   "source": [
    "**Output the L1 data:**"
   ]
  },
  {
   "cell_type": "code",
   "execution_count": 230,
   "id": "ea62dd3d",
   "metadata": {},
   "outputs": [],
   "source": [
    "def output_L1(loaded_RS_file, L1_csv_filename):\n",
    "    \n",
    "    # launch_time = loaded_RS_file[0]\n",
    "    # L0_raw_data = loaded_RS_file[1]\n",
    "\n",
    "    # Output L1 data (csv format):\n",
    "\n",
    "    with open(L1_csv_filename, 'w') as file:\n",
    "\n",
    "        ## Required info:\n",
    "        file.write('FileFormat,CSV\\n')\n",
    "        file.write('Year,{}\\n'.format(loaded_RS_file[0].year))\n",
    "        file.write('Month,{:02d}\\n'.format(loaded_RS_file[0].month))\n",
    "        file.write('Day,{:02d}\\n'.format(loaded_RS_file[0].day))\n",
    "        file.write('Hour,{:02d}\\n'.format(loaded_RS_file[0].hour))\n",
    "        file.write('Minute,{:02d}\\n'.format(loaded_RS_file[0].minute))\n",
    "        file.write('Second,{:02d}\\n'.format(loaded_RS_file[0].second))\n",
    "\n",
    "        file.write('Ascending,\"true\"\\n')\n",
    "\n",
    "        ## Optional info:\n",
    "        file.write('latitude,40.590000,\"units=deg\"\\n')\n",
    "        file.write('longitude,-105.141500,\"units=deg\"\\n')\n",
    "        file.write('altitude,1571.9,\"units=m\"\\n')\n",
    "        file.write('gpsaltitude,1571.9,\"units=m\"\\n')\n",
    "        file.write('project,\"PRE-CIP-2021\"\\n')\n",
    "        file.write('agency,\"CSU\"\\n')\n",
    "        file.write('sondeid,\"{}\"\\n'.format(loaded_RS_file[2]))\n",
    "        file.write('sondetype,\"Vaisala RS41-SGP\"\\n')\n",
    "        file.write('launchsite,\"Christman Field\"\\n\\n')\n",
    "\n",
    "        ## Data headers:\n",
    "        file.write('Fields,    Time,    Pressure,    Temperature,    RH,    Speed,    Direction,    Latitude,    Longitude,    Altitude,    Gpsalt,    Ascent \\n')\n",
    "        file.write('Units,      sec,          mb,       deg C,        %,      m/s,          deg,         deg,          deg,           m,         m,       m/s \\n')\n",
    "        \n",
    "        ## Data fields:\n",
    "        for index, row in loaded_RS_file[1].iterrows():\n",
    "\n",
    "            file.write('Data,    %6.1f,    %7.2f,    %6.2f,    %6.2f,    %6.2f,    %6.2f,    %9.5f,    %9.5f,    %7.1f,    %7.1f,    %5.1f \\n' \n",
    "                       % (row['Time']\n",
    "                        , row['P']\n",
    "                        , row['TC']\n",
    "                        , row['RH']\n",
    "                        , row['WS']\n",
    "                        , row['WD']\n",
    "                        , row['Lat']\n",
    "                        , row['Lon']\n",
    "                        , row['MSL']\n",
    "                        , row['GPS_MSL']\n",
    "                        , row['AscRate']\n",
    "                         )\n",
    "                      )"
   ]
  },
  {
   "cell_type": "markdown",
   "id": "130963c8-60aa-4e05-a27c-862aead6a622",
   "metadata": {},
   "source": [
    "### Main Program:"
   ]
  },
  {
   "cell_type": "code",
   "execution_count": 231,
   "id": "41a60212",
   "metadata": {},
   "outputs": [
    {
     "name": "stdout",
     "output_type": "stream",
     "text": [
      "/Users/yuhungjui/Research/CSU_2021/PRECIP_2021/VaisalaRS41/Data/L0/20210626/edt_20210626_1741.txt\n",
      "/Users/yuhungjui/Research/CSU_2021/PRECIP_2021/VaisalaRS41/Data/L1_csv/precip21_2021062618.RS.csv\n",
      "/Users/yuhungjui/Research/CSU_2021/PRECIP_2021/VaisalaRS41/Data/L0/20210628/edt_20210628_1750.txt\n",
      "/Users/yuhungjui/Research/CSU_2021/PRECIP_2021/VaisalaRS41/Data/L1_csv/precip21_2021062818.RS.csv\n",
      "/Users/yuhungjui/Research/CSU_2021/PRECIP_2021/VaisalaRS41/Data/L0/20210819/edt_20210819_1748.txt\n",
      "/Users/yuhungjui/Research/CSU_2021/PRECIP_2021/VaisalaRS41/Data/L1_csv/precip21_2021081918.RS.csv\n",
      "/Users/yuhungjui/Research/CSU_2021/PRECIP_2021/VaisalaRS41/Data/L0/20210705_21Z/edt_20210705_2046.txt\n",
      "/Users/yuhungjui/Research/CSU_2021/PRECIP_2021/VaisalaRS41/Data/L1_csv/precip21_2021070521.RS.csv\n",
      "/Users/yuhungjui/Research/CSU_2021/PRECIP_2021/VaisalaRS41/Data/L0/20210620/edt_20210620_1758.txt\n",
      "/Users/yuhungjui/Research/CSU_2021/PRECIP_2021/VaisalaRS41/Data/L1_csv/precip21_2021062018.RS.csv\n",
      "/Users/yuhungjui/Research/CSU_2021/PRECIP_2021/VaisalaRS41/Data/L0/20210627/edt_20210627_1739.txt\n",
      "/Users/yuhungjui/Research/CSU_2021/PRECIP_2021/VaisalaRS41/Data/L1_csv/precip21_2021062718.RS.csv\n",
      "/Users/yuhungjui/Research/CSU_2021/PRECIP_2021/VaisalaRS41/Data/L0/20210714_21Z/edt_20210714_2108.txt\n",
      "/Users/yuhungjui/Research/CSU_2021/PRECIP_2021/VaisalaRS41/Data/L1_csv/precip21_2021071421.RS.csv\n",
      "/Users/yuhungjui/Research/CSU_2021/PRECIP_2021/VaisalaRS41/Data/L0/20210505/edt_20210505_1831.txt\n",
      "/Users/yuhungjui/Research/CSU_2021/PRECIP_2021/VaisalaRS41/Data/L1_csv/precip21_2021050518.RS.csv\n",
      "/Users/yuhungjui/Research/CSU_2021/PRECIP_2021/VaisalaRS41/Data/L0/20210701_21Z/edt_20210701_2039.txt\n",
      "/Users/yuhungjui/Research/CSU_2021/PRECIP_2021/VaisalaRS41/Data/L1_csv/precip21_2021070121.RS.csv\n",
      "/Users/yuhungjui/Research/CSU_2021/PRECIP_2021/VaisalaRS41/Data/L0/20210730/edt_20210730_1725.txt\n",
      "/Users/yuhungjui/Research/CSU_2021/PRECIP_2021/VaisalaRS41/Data/L1_csv/precip21_2021073018.RS.csv\n",
      "/Users/yuhungjui/Research/CSU_2021/PRECIP_2021/VaisalaRS41/Data/L0/20210701/edt_20210701_1740.txt\n",
      "/Users/yuhungjui/Research/CSU_2021/PRECIP_2021/VaisalaRS41/Data/L1_csv/precip21_2021070118.RS.csv\n",
      "/Users/yuhungjui/Research/CSU_2021/PRECIP_2021/VaisalaRS41/Data/L0/20210503/edt_20210503_1848.txt\n",
      "/Users/yuhungjui/Research/CSU_2021/PRECIP_2021/VaisalaRS41/Data/L1_csv/precip21_2021050318.RS.csv\n",
      "/Users/yuhungjui/Research/CSU_2021/PRECIP_2021/VaisalaRS41/Data/L0/20210709/edt_20210709_1833.txt\n",
      "/Users/yuhungjui/Research/CSU_2021/PRECIP_2021/VaisalaRS41/Data/L1_csv/precip21_2021070918.RS.csv\n",
      "/Users/yuhungjui/Research/CSU_2021/PRECIP_2021/VaisalaRS41/Data/L0/20210714/edt_20210714_1746.txt\n",
      "/Users/yuhungjui/Research/CSU_2021/PRECIP_2021/VaisalaRS41/Data/L1_csv/precip21_2021071418.RS.csv\n",
      "/Users/yuhungjui/Research/CSU_2021/PRECIP_2021/VaisalaRS41/Data/L0/20210713/edt_20210713_1741.txt\n",
      "/Users/yuhungjui/Research/CSU_2021/PRECIP_2021/VaisalaRS41/Data/L1_csv/precip21_2021071318.RS.csv\n",
      "/Users/yuhungjui/Research/CSU_2021/PRECIP_2021/VaisalaRS41/Data/L0/20210725/edt_20210725_1746.txt\n",
      "/Users/yuhungjui/Research/CSU_2021/PRECIP_2021/VaisalaRS41/Data/L1_csv/precip21_2021072518.RS.csv\n",
      "/Users/yuhungjui/Research/CSU_2021/PRECIP_2021/VaisalaRS41/Data/L0/20210722/edt_20210722_1746.txt\n",
      "/Users/yuhungjui/Research/CSU_2021/PRECIP_2021/VaisalaRS41/Data/L1_csv/precip21_2021072218.RS.csv\n",
      "/Users/yuhungjui/Research/CSU_2021/PRECIP_2021/VaisalaRS41/Data/L0/20210723/edt_20210723_1735.txt\n",
      "/Users/yuhungjui/Research/CSU_2021/PRECIP_2021/VaisalaRS41/Data/L1_csv/precip21_2021072318.RS.csv\n",
      "/Users/yuhungjui/Research/CSU_2021/PRECIP_2021/VaisalaRS41/Data/L0/20210529/edt_20210529_1825.txt\n",
      "/Users/yuhungjui/Research/CSU_2021/PRECIP_2021/VaisalaRS41/Data/L1_csv/precip21_2021052918.RS.csv\n",
      "/Users/yuhungjui/Research/CSU_2021/PRECIP_2021/VaisalaRS41/Data/L0/20210516/edt_20210516_1824.txt\n",
      "/Users/yuhungjui/Research/CSU_2021/PRECIP_2021/VaisalaRS41/Data/L1_csv/precip21_2021051618.RS.csv\n",
      "/Users/yuhungjui/Research/CSU_2021/PRECIP_2021/VaisalaRS41/Data/L0/20210724/edt_20210724_1738.txt\n",
      "/Users/yuhungjui/Research/CSU_2021/PRECIP_2021/VaisalaRS41/Data/L1_csv/precip21_2021072418.RS.csv\n",
      "/Users/yuhungjui/Research/CSU_2021/PRECIP_2021/VaisalaRS41/Data/L0/20210715/edt_20210715_1736.txt\n",
      "/Users/yuhungjui/Research/CSU_2021/PRECIP_2021/VaisalaRS41/Data/L1_csv/precip21_2021071518.RS.csv\n",
      "/Users/yuhungjui/Research/CSU_2021/PRECIP_2021/VaisalaRS41/Data/L0/20210605/edt_20210605_1822.txt\n",
      "/Users/yuhungjui/Research/CSU_2021/PRECIP_2021/VaisalaRS41/Data/L1_csv/precip21_2021060518.RS.csv\n",
      "/Users/yuhungjui/Research/CSU_2021/PRECIP_2021/VaisalaRS41/Data/L0/20210802/edt_20210802_1740.txt\n",
      "/Users/yuhungjui/Research/CSU_2021/PRECIP_2021/VaisalaRS41/Data/L1_csv/precip21_2021080218.RS.csv\n",
      "/Users/yuhungjui/Research/CSU_2021/PRECIP_2021/VaisalaRS41/Data/L0/20210625/edt_20210625_1737.txt\n",
      "/Users/yuhungjui/Research/CSU_2021/PRECIP_2021/VaisalaRS41/Data/L1_csv/precip21_2021062518.RS.csv\n",
      "/Users/yuhungjui/Research/CSU_2021/PRECIP_2021/VaisalaRS41/Data/L0/20210803_21Z/edt_20210803_2048.txt\n",
      "/Users/yuhungjui/Research/CSU_2021/PRECIP_2021/VaisalaRS41/Data/L1_csv/precip21_2021080321.RS.csv\n",
      "/Users/yuhungjui/Research/CSU_2021/PRECIP_2021/VaisalaRS41/Data/L0/20210815/edt_20210815_1747.txt\n",
      "/Users/yuhungjui/Research/CSU_2021/PRECIP_2021/VaisalaRS41/Data/L1_csv/precip21_2021081518.RS.csv\n",
      "/Users/yuhungjui/Research/CSU_2021/PRECIP_2021/VaisalaRS41/Data/L0/20210812/edt_20210812_1812.txt\n",
      "/Users/yuhungjui/Research/CSU_2021/PRECIP_2021/VaisalaRS41/Data/L1_csv/precip21_2021081218.RS.csv\n",
      "/Users/yuhungjui/Research/CSU_2021/PRECIP_2021/VaisalaRS41/Data/L0/20210731_18Z/edt_20210731_1741.txt\n",
      "/Users/yuhungjui/Research/CSU_2021/PRECIP_2021/VaisalaRS41/Data/L1_csv/precip21_2021073118.RS.csv\n",
      "/Users/yuhungjui/Research/CSU_2021/PRECIP_2021/VaisalaRS41/Data/L0/20210804_15Z/edt_20210804_1438.txt\n",
      "/Users/yuhungjui/Research/CSU_2021/PRECIP_2021/VaisalaRS41/Data/L1_csv/precip21_2021080415.RS.csv\n",
      "/Users/yuhungjui/Research/CSU_2021/PRECIP_2021/VaisalaRS41/Data/L0/20210624/edt_20210624_1753.txt\n",
      "/Users/yuhungjui/Research/CSU_2021/PRECIP_2021/VaisalaRS41/Data/L1_csv/precip21_2021062418.RS.csv\n",
      "/Users/yuhungjui/Research/CSU_2021/PRECIP_2021/VaisalaRS41/Data/L0/20210813/edt_20210813_1808.txt\n",
      "/Users/yuhungjui/Research/CSU_2021/PRECIP_2021/VaisalaRS41/Data/L1_csv/precip21_2021081318.RS.csv\n",
      "/Users/yuhungjui/Research/CSU_2021/PRECIP_2021/VaisalaRS41/Data/L0/20210814/edt_20210814_1748.txt\n",
      "/Users/yuhungjui/Research/CSU_2021/PRECIP_2021/VaisalaRS41/Data/L1_csv/precip21_2021081418.RS.csv\n",
      "/Users/yuhungjui/Research/CSU_2021/PRECIP_2021/VaisalaRS41/Data/L0/20210702/edt_20210702_1805.txt\n",
      "/Users/yuhungjui/Research/CSU_2021/PRECIP_2021/VaisalaRS41/Data/L1_csv/precip21_2021070218.RS.csv\n",
      "/Users/yuhungjui/Research/CSU_2021/PRECIP_2021/VaisalaRS41/Data/L0/20210705/edt_20210705_1802.txt\n",
      "/Users/yuhungjui/Research/CSU_2021/PRECIP_2021/VaisalaRS41/Data/L1_csv/precip21_2021070518.RS.csv\n",
      "/Users/yuhungjui/Research/CSU_2021/PRECIP_2021/VaisalaRS41/Data/L0/20210508/edt_20210508_1752.txt\n",
      "/Users/yuhungjui/Research/CSU_2021/PRECIP_2021/VaisalaRS41/Data/L1_csv/precip21_2021050818.RS.csv\n",
      "/Users/yuhungjui/Research/CSU_2021/PRECIP_2021/VaisalaRS41/Data/L0/20210703/edt_20210703_1805.txt\n",
      "/Users/yuhungjui/Research/CSU_2021/PRECIP_2021/VaisalaRS41/Data/L1_csv/precip21_2021070318.RS.csv\n",
      "/Users/yuhungjui/Research/CSU_2021/PRECIP_2021/VaisalaRS41/Data/L0/20210803_15Z/edt_20210803_1422.txt\n",
      "/Users/yuhungjui/Research/CSU_2021/PRECIP_2021/VaisalaRS41/Data/L1_csv/precip21_2021080315.RS.csv\n",
      "/Users/yuhungjui/Research/CSU_2021/PRECIP_2021/VaisalaRS41/Data/L0/20210522/edt_20210522_1838.txt\n",
      "/Users/yuhungjui/Research/CSU_2021/PRECIP_2021/VaisalaRS41/Data/L1_csv/precip21_2021052218.RS.csv\n",
      "/Users/yuhungjui/Research/CSU_2021/PRECIP_2021/VaisalaRS41/Data/L0/20210717/edt_20210717_1743.txt\n",
      "/Users/yuhungjui/Research/CSU_2021/PRECIP_2021/VaisalaRS41/Data/L1_csv/precip21_2021071718.RS.csv\n",
      "/Users/yuhungjui/Research/CSU_2021/PRECIP_2021/VaisalaRS41/Data/L0/20210721/edt_20210721_1754.txt\n",
      "/Users/yuhungjui/Research/CSU_2021/PRECIP_2021/VaisalaRS41/Data/L1_csv/precip21_2021072118.RS.csv\n",
      "/Users/yuhungjui/Research/CSU_2021/PRECIP_2021/VaisalaRS41/Data/L0/20210730_21Z/edt_20210730_2045.txt\n",
      "/Users/yuhungjui/Research/CSU_2021/PRECIP_2021/VaisalaRS41/Data/L1_csv/precip21_2021073021.RS.csv\n",
      "/Users/yuhungjui/Research/CSU_2021/PRECIP_2021/VaisalaRS41/Data/L0/20210803_18Z/edt_20210803_1805.txt\n",
      "/Users/yuhungjui/Research/CSU_2021/PRECIP_2021/VaisalaRS41/Data/L1_csv/precip21_2021080318.RS.csv\n",
      "/Users/yuhungjui/Research/CSU_2021/PRECIP_2021/VaisalaRS41/Data/L0/20210731_21Z/edt_20210731_2047.txt\n",
      "/Users/yuhungjui/Research/CSU_2021/PRECIP_2021/VaisalaRS41/Data/L1_csv/precip21_2021073121.RS.csv\n",
      "/Users/yuhungjui/Research/CSU_2021/PRECIP_2021/VaisalaRS41/Data/L0/20210720/edt_20210720_1825.txt\n",
      "/Users/yuhungjui/Research/CSU_2021/PRECIP_2021/VaisalaRS41/Data/L1_csv/precip21_2021072018.RS.csv\n",
      "/Users/yuhungjui/Research/CSU_2021/PRECIP_2021/VaisalaRS41/Data/L0/20210716/edt_20210716_1802.txt\n",
      "/Users/yuhungjui/Research/CSU_2021/PRECIP_2021/VaisalaRS41/Data/L1_csv/precip21_2021071618.RS.csv\n",
      "/Users/yuhungjui/Research/CSU_2021/PRECIP_2021/VaisalaRS41/Data/L0/20210731_15Z/edt_20210731_1446.txt\n",
      "/Users/yuhungjui/Research/CSU_2021/PRECIP_2021/VaisalaRS41/Data/L1_csv/precip21_2021073115.RS.csv\n",
      "/Users/yuhungjui/Research/CSU_2021/PRECIP_2021/VaisalaRS41/Data/L0/20210606/edt_20210606_1735.txt\n",
      "/Users/yuhungjui/Research/CSU_2021/PRECIP_2021/VaisalaRS41/Data/L1_csv/precip21_2021060618.RS.csv\n",
      "/Users/yuhungjui/Research/CSU_2021/PRECIP_2021/VaisalaRS41/Data/L0/20210630/edt_20210630_1755.txt\n",
      "/Users/yuhungjui/Research/CSU_2021/PRECIP_2021/VaisalaRS41/Data/L1_csv/precip21_2021063018.RS.csv\n",
      "/Users/yuhungjui/Research/CSU_2021/PRECIP_2021/VaisalaRS41/Data/L0/20210806/edt_20210806_1739.txt\n",
      "/Users/yuhungjui/Research/CSU_2021/PRECIP_2021/VaisalaRS41/Data/L1_csv/precip21_2021080618.RS.csv\n",
      "/Users/yuhungjui/Research/CSU_2021/PRECIP_2021/VaisalaRS41/Data/L0/20210723_21Z/edt_20210723_2040.txt\n",
      "/Users/yuhungjui/Research/CSU_2021/PRECIP_2021/VaisalaRS41/Data/L1_csv/precip21_2021072321.RS.csv\n",
      "/Users/yuhungjui/Research/CSU_2021/PRECIP_2021/VaisalaRS41/Data/L0/20210607/edt_20210607_1806.txt\n",
      "/Users/yuhungjui/Research/CSU_2021/PRECIP_2021/VaisalaRS41/Data/L1_csv/precip21_2021060718.RS.csv\n",
      "RUNTIME：21.383396 SEC\n",
      "RUNTIME：0.356390 MIN\n",
      "RUNTIME：0.005940 HOUR\n"
     ]
    }
   ],
   "source": [
    "start = time.time()\n",
    "\n",
    "for file_path_name in glob.glob(RS_L0_file_path + '/*/edt_*'):\n",
    "    print(file_path_name)\n",
    "    \n",
    "    RS_data = load_L0_edt(file_path_name)\n",
    "    #print(RS_data)\n",
    "    \n",
    "    L1_output_name = output_path + '/2021' + '/precip21_{}.RS.csv'.format(RS_data[0].strftime('%Y%m%d') + get_nominal_time(RS_data))\n",
    "    #print(L1_output_name)\n",
    "\n",
    "    output_L1(RS_data, L1_output_name)\n",
    "    print(L1_output_name)\n",
    "\n",
    "end = time.time()\n",
    "print(\"RUNTIME：%f SEC\" % (end - start))\n",
    "print(\"RUNTIME：%f MIN\" % ((end - start)/60))\n",
    "print(\"RUNTIME：%f HOUR\" % ((end - start)/3600))"
   ]
  },
  {
   "cell_type": "code",
   "execution_count": 232,
   "id": "4e1b3e51",
   "metadata": {},
   "outputs": [
    {
     "name": "stdin",
     "output_type": "stream",
     "text": [
      "Once deleted, variables cannot be recovered. Proceed (y/[n])?  y\n"
     ]
    }
   ],
   "source": [
    "%reset"
   ]
  },
  {
   "cell_type": "code",
   "execution_count": null,
   "id": "f876d309-87af-4579-966f-5505ba652a6c",
   "metadata": {},
   "outputs": [],
   "source": []
  }
 ],
 "metadata": {
  "kernelspec": {
   "display_name": "Python 3",
   "language": "python",
   "name": "python3"
  },
  "language_info": {
   "codemirror_mode": {
    "name": "ipython",
    "version": 3
   },
   "file_extension": ".py",
   "mimetype": "text/x-python",
   "name": "python",
   "nbconvert_exporter": "python",
   "pygments_lexer": "ipython3",
   "version": "3.8.10"
  }
 },
 "nbformat": 4,
 "nbformat_minor": 5
}
